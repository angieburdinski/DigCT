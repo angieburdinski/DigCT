{
 "cells": [
  {
   "cell_type": "code",
   "execution_count": 1,
   "metadata": {},
   "outputs": [],
   "source": [
    "import pandas as pd\n",
    "import matplotlib.pyplot as pl\n",
    "import numpy as np\n",
    "%matplotlib widget"
   ]
  },
  {
   "cell_type": "code",
   "execution_count": 2,
   "metadata": {},
   "outputs": [],
   "source": [
    "fn0 = 'mixed_a_0.csv'\n",
    "fn30 = 'mixed_a_30.csv'"
   ]
  },
  {
   "cell_type": "code",
   "execution_count": 3,
   "metadata": {},
   "outputs": [],
   "source": [
    "def analyze_and_get_raw(fn):\n",
    "    main = pd.read_csv(fn)\n",
    "    pl.figure()\n",
    "    max_t = 0\n",
    "    dOdt_raw = []\n",
    "    t_d = []\n",
    "    for i in range(main['run_id'].max()+1):\n",
    "        df = main[main['run_id'] == i]\n",
    "        Omega = (df['R']+df['X']+df['C']+df['Ra']+df['Xa']).to_numpy()[::2]\n",
    "        dOdt = np.diff(Omega)\n",
    "        dOdt_raw.append(dOdt)\n",
    "        #pl.plot(df['t'],df['R']+df['X']+df['C']+df['Ra']+df['Xa'])\n",
    "        pl.plot(df['t'][2::2],dOdt)\n",
    "    print(\"max_t =\", max_t)\n",
    "    return dOdt_raw"
   ]
  },
  {
   "cell_type": "code",
   "execution_count": 4,
   "metadata": {},
   "outputs": [],
   "source": [
    "def analyze_and_plot(dOdt_raw):\n",
    "    max_t = max([ len(dOdt) for dOdt in dOdt_raw ])\n",
    "    t = np.arange(max_t+1)\n",
    "    dOdts = []\n",
    "    for dOdt in dOdt_raw:\n",
    "        if len(dOdt) < len(t):\n",
    "            dOdts.append(np.concatenate((dOdt,np.zeros(len(t)-len(dOdt)))))\n",
    "        #print(len(dOdts[-1]))\n",
    "\n",
    "    dOdts = np.array(dOdts)\n",
    "\n",
    "    means = dOdts.mean(axis=0)\n",
    "    stds = dOdts.std(axis=0)\n",
    "\n",
    "    #pl.figure()\n",
    "    #pl.errorbar(t, means, stds)\n",
    "    return t, means, stds"
   ]
  },
  {
   "cell_type": "code",
   "execution_count": 5,
   "metadata": {},
   "outputs": [
    {
     "data": {
      "application/vnd.jupyter.widget-view+json": {
       "model_id": "a6650d81b2c04520ab37b4784952f16c",
       "version_major": 2,
       "version_minor": 0
      },
      "text/plain": [
       "Canvas(toolbar=Toolbar(toolitems=[('Home', 'Reset original view', 'home', 'home'), ('Back', 'Back to previous …"
      ]
     },
     "metadata": {},
     "output_type": "display_data"
    },
    {
     "data": {
      "application/vnd.jupyter.widget-view+json": {
       "model_id": "b85c3222bde6451f880e6f5abc4ddb66",
       "version_major": 2,
       "version_minor": 0
      },
      "text/plain": [
       "Canvas(toolbar=Toolbar(toolitems=[('Home', 'Reset original view', 'home', 'home'), ('Back', 'Back to previous …"
      ]
     },
     "metadata": {},
     "output_type": "display_data"
    },
    {
     "name": "stdout",
     "output_type": "stream",
     "text": [
      "max_t = 0\n",
      "128130.55000000005\n",
      "max: 5445.4\n"
     ]
    },
    {
     "data": {
      "application/vnd.jupyter.widget-view+json": {
       "model_id": "0364be7d13ac4d3893fcbf085ecf976f",
       "version_major": 2,
       "version_minor": 0
      },
      "text/plain": [
       "Canvas(toolbar=Toolbar(toolitems=[('Home', 'Reset original view', 'home', 'home'), ('Back', 'Back to previous …"
      ]
     },
     "metadata": {},
     "output_type": "display_data"
    },
    {
     "name": "stdout",
     "output_type": "stream",
     "text": [
      "max_t = 0\n",
      "122027.60000000005\n",
      "max: 5097.15\n"
     ]
    },
    {
     "data": {
      "text/plain": [
       "(0.0, 80.0)"
      ]
     },
     "execution_count": 5,
     "metadata": {},
     "output_type": "execute_result"
    }
   ],
   "source": [
    "fig, ax = pl.subplots()\n",
    "for fn in [fn0,fn30]:\n",
    "    dOdt_raw = analyze_and_get_raw(fn)\n",
    "    t, means, stds = analyze_and_plot(dOdt_raw)\n",
    "    print(sum(means))\n",
    "    print(\"max:\",max(means))\n",
    "    ax.errorbar(t, means, stds)\n",
    "ax.legend(['a = 0%', 'a = 30%'])\n",
    "ax.set_xlim(0,80)\n"
   ]
  },
  {
   "cell_type": "code",
   "execution_count": null,
   "metadata": {},
   "outputs": [],
   "source": [
    "Omegas_raw"
   ]
  },
  {
   "cell_type": "code",
   "execution_count": null,
   "metadata": {},
   "outputs": [],
   "source": []
  },
  {
   "cell_type": "code",
   "execution_count": null,
   "metadata": {},
   "outputs": [],
   "source": []
  }
 ],
 "metadata": {
  "kernelspec": {
   "display_name": "Python 3",
   "language": "python",
   "name": "python3"
  },
  "language_info": {
   "codemirror_mode": {
    "name": "ipython",
    "version": 3
   },
   "file_extension": ".py",
   "mimetype": "text/x-python",
   "name": "python",
   "nbconvert_exporter": "python",
   "pygments_lexer": "ipython3",
   "version": "3.8.9"
  }
 },
 "nbformat": 4,
 "nbformat_minor": 4
}
