{
 "cells": [
  {
   "cell_type": "code",
   "execution_count": 1,
   "metadata": {},
   "outputs": [],
   "source": [
    "import matplotlib.pyplot as pl\n",
    "%matplotlib widget\n",
    "import numpy as np\n",
    "import smallworld as sw\n",
    "import bfmplot.tools as tools\n",
    "from scipy.stats import binom\n",
    "\n",
    "from smallworld.draw import draw_network\n",
    "from smallworld import get_smallworld_graph\n",
    "\n",
    "color = '#666666'\n",
    "color = 'k'"
   ]
  },
  {
   "cell_type": "code",
   "execution_count": 20,
   "metadata": {},
   "outputs": [
    {
     "data": {
      "application/vnd.jupyter.widget-view+json": {
       "model_id": "e320e658bd4c4a81b42954137a165079",
       "version_major": 2,
       "version_minor": 0
      },
      "text/plain": [
       "Canvas(toolbar=Toolbar(toolitems=[('Home', 'Reset original view', 'home', 'home'), ('Back', 'Back to previous …"
      ]
     },
     "metadata": {},
     "output_type": "display_data"
    }
   ],
   "source": [
    "from smallworld.draw import draw_network\n",
    "from smallworld import get_smallworld_graph\n",
    "from expon_smallworld import get_expon_small_world\n",
    "\n",
    "import matplotlib.pyplot as pl\n",
    "\n",
    "# define network parameters\n",
    "N = 15\n",
    "k_over_2 = 2.5\n",
    "beta = 0.025\n",
    "#labels = [ r'$\\beta=0$', r'$\\beta=0.025$', r'$\\beta=1$']\n",
    "\n",
    "\n",
    "fig, ax = pl.subplots(1,1,figsize=(3,3))\n",
    "\n",
    "\n",
    "# scan beta values\n",
    "\n",
    "# generate small-world graphs and draw\n",
    "G = get_expon_small_world(N,2*k_over_2, 'asc')\n",
    "draw_network(G,k_over_2,ax=ax,markersize=12,linewidth=2,linkcolor='#aaaaaa',focal_node=None)\n",
    "\n",
    "#ax[ib].set_title(labels[ib],fontsize=11)\n",
    "\n",
    "# show\n",
    "pl.show()\n",
    "fig.savefig('expon-small-world.pdf',dpi=300)"
   ]
  },
  {
   "cell_type": "code",
   "execution_count": null,
   "metadata": {},
   "outputs": [],
   "source": []
  },
  {
   "cell_type": "code",
   "execution_count": null,
   "metadata": {},
   "outputs": [],
   "source": []
  }
 ],
 "metadata": {
  "kernelspec": {
   "display_name": "Python 3",
   "language": "python",
   "name": "python3"
  },
  "language_info": {
   "codemirror_mode": {
    "name": "ipython",
    "version": 3
   },
   "file_extension": ".py",
   "mimetype": "text/x-python",
   "name": "python",
   "nbconvert_exporter": "python",
   "pygments_lexer": "ipython3",
   "version": "3.8.9"
  }
 },
 "nbformat": 4,
 "nbformat_minor": 4
}
