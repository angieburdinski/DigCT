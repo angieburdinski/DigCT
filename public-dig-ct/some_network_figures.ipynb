{
 "cells": [
  {
   "cell_type": "code",
   "execution_count": 1,
   "metadata": {},
   "outputs": [],
   "source": [
    "import matplotlib.pyplot as pl\n",
    "%matplotlib widget\n",
    "import numpy as np\n",
    "import smallworld as sw\n",
    "import bfmplot.tools as tools\n",
    "from scipy.stats import binom\n",
    "\n",
    "from smallworld.draw import draw_network\n",
    "from smallworld import get_smallworld_graph\n",
    "\n",
    "color = '#666666'\n",
    "color = 'k'"
   ]
  },
  {
   "cell_type": "code",
   "execution_count": 2,
   "metadata": {},
   "outputs": [
    {
     "data": {
      "application/vnd.jupyter.widget-view+json": {
       "model_id": "0d4427078ad041d7a9bae92175600d7a",
       "version_major": 2,
       "version_minor": 0
      },
      "text/plain": [
       "Canvas(toolbar=Toolbar(toolitems=[('Home', 'Reset original view', 'home', 'home'), ('Back', 'Back to previous …"
      ]
     },
     "metadata": {},
     "output_type": "display_data"
    }
   ],
   "source": [
    "fig, ax = pl.subplots(1,1,figsize=(2,2))\n",
    "mean = 5\n",
    "k = np.arange(0,20)\n",
    "p = np.exp(-k/mean)/mean\n",
    "ax.bar(k,p,color=color)\n",
    "ax.set_xticks([])\n",
    "ax.set_yticks([])\n",
    "tools.strip_axis(ax)\n",
    "ax.set_xlabel('degree',loc='right')\n",
    "ax.set_xlim([k[0]-0.75,k[-1]+0.5])\n",
    "ax.set_ylabel('probability',loc='top')\n",
    "fig.savefig('expon-dist.pdf',dpi=300)"
   ]
  },
  {
   "cell_type": "code",
   "execution_count": 3,
   "metadata": {},
   "outputs": [
    {
     "data": {
      "application/vnd.jupyter.widget-view+json": {
       "model_id": "437736ce7b60452e846d985dfed54409",
       "version_major": 2,
       "version_minor": 0
      },
      "text/plain": [
       "Canvas(toolbar=Toolbar(toolitems=[('Home', 'Reset original view', 'home', 'home'), ('Back', 'Back to previous …"
      ]
     },
     "metadata": {},
     "output_type": "display_data"
    }
   ],
   "source": [
    "fig, ax = pl.subplots(1,1,figsize=(2,2))\n",
    "mean = 5\n",
    "k = np.arange(0,20)\n",
    "n = 20\n",
    "p = binom.pmf(k, n, mean/n)\n",
    "ax.bar(k,p,color=color)\n",
    "ax.set_xticks([])\n",
    "ax.set_yticks([])\n",
    "tools.strip_axis(ax)\n",
    "ax.set_xlabel('degree',loc='right')\n",
    "ax.set_xlim([k[0]-0.75,k[-1]+0.5])\n",
    "ax.set_ylabel('probability',loc='top')\n",
    "fig.savefig('ER-dist.pdf',dpi=300)"
   ]
  },
  {
   "cell_type": "code",
   "execution_count": 4,
   "metadata": {},
   "outputs": [
    {
     "data": {
      "application/vnd.jupyter.widget-view+json": {
       "model_id": "f62aaa8127f3430ebe413793076b3cfa",
       "version_major": 2,
       "version_minor": 0
      },
      "text/plain": [
       "Canvas(toolbar=Toolbar(toolitems=[('Home', 'Reset original view', 'home', 'home'), ('Back', 'Back to previous …"
      ]
     },
     "metadata": {},
     "output_type": "display_data"
    }
   ],
   "source": [
    "fig, ax = pl.subplots(1,1,figsize=(2,2))\n",
    "mean = 5.\n",
    "k = np.arange(0,20)\n",
    "sigma = 1.5\n",
    "p = np.exp(-(k-mean)**2/sigma**2)\n",
    "#n = 7\n",
    "#p = binom.pmf(k, n, mean/n)\n",
    "ax.bar(k,p,color=color)\n",
    "ax.set_xticks([])\n",
    "ax.set_yticks([])\n",
    "tools.strip_axis(ax)\n",
    "ax.set_xlabel('degree',loc='right')\n",
    "ax.set_xlim([k[0]-0.75,k[-1]+0.5])\n",
    "ax.set_ylabel('probability',loc='top')\n",
    "fig.savefig('sw-dist.pdf',dpi=300)"
   ]
  },
  {
   "cell_type": "code",
   "execution_count": 5,
   "metadata": {},
   "outputs": [
    {
     "data": {
      "application/vnd.jupyter.widget-view+json": {
       "model_id": "34d9b5e31466475e8f911b0d30056583",
       "version_major": 2,
       "version_minor": 0
      },
      "text/plain": [
       "Canvas(toolbar=Toolbar(toolitems=[('Home', 'Reset original view', 'home', 'home'), ('Back', 'Back to previous …"
      ]
     },
     "metadata": {},
     "output_type": "display_data"
    }
   ],
   "source": [
    "from smallworld.draw import draw_network\n",
    "from smallworld import get_smallworld_graph\n",
    "\n",
    "import matplotlib.pyplot as pl\n",
    "\n",
    "# define network parameters\n",
    "N = 15\n",
    "k_over_2 = 2\n",
    "beta = 0.025\n",
    "#labels = [ r'$\\beta=0$', r'$\\beta=0.025$', r'$\\beta=1$']\n",
    "\n",
    "\n",
    "fig, ax = pl.subplots(1,1,figsize=(3,3))\n",
    "\n",
    "\n",
    "# scan beta values\n",
    "\n",
    "# generate small-world graphs and draw\n",
    "G = get_smallworld_graph(N, k_over_2, beta)\n",
    "draw_network(G,k_over_2,ax=ax,markersize=12,linewidth=2,linkcolor='#aaaaaa')\n",
    "\n",
    "#ax[ib].set_title(labels[ib],fontsize=11)\n",
    "\n",
    "# show\n",
    "pl.show()\n",
    "fig.savefig('small-world.pdf',dpi=300)"
   ]
  },
  {
   "cell_type": "code",
   "execution_count": null,
   "metadata": {},
   "outputs": [],
   "source": []
  },
  {
   "cell_type": "code",
   "execution_count": null,
   "metadata": {},
   "outputs": [],
   "source": []
  }
 ],
 "metadata": {
  "kernelspec": {
   "display_name": "Python 3",
   "language": "python",
   "name": "python3"
  },
  "language_info": {
   "codemirror_mode": {
    "name": "ipython",
    "version": 3
   },
   "file_extension": ".py",
   "mimetype": "text/x-python",
   "name": "python",
   "nbconvert_exporter": "python",
   "pygments_lexer": "ipython3",
   "version": "3.8.9"
  }
 },
 "nbformat": 4,
 "nbformat_minor": 4
}
